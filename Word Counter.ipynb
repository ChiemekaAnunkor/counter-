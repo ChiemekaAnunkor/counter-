{
 "cells": [
  {
   "cell_type": "code",
   "execution_count": 1,
   "metadata": {
    "scrolled": true
   },
   "outputs": [
    {
     "name": "stdout",
     "output_type": "stream",
     "text": [
      "[('and', 197), ('data', 82), ('to', 70), ('of', 63), ('with', 60), ('or', 46), ('experience', 46), ('in', 44), ('years', 41), ('the', 39), ('a', 34), ('required', 28), ('for', 23), ('analysis', 21), ('business', 19), ('as', 19), ('strong', 16), ('science', 16), ('development', 15), ('management', 14), ('techniques', 13), ('analytics', 13), ('knowledge', 13), ('6', 13), ('ability', 13), ('s', 13), ('preferred', 13), ('such', 12), ('python', 12), ('team', 12), ('using', 11), ('work', 11), ('working', 11), ('4', 11), ('sql', 11), ('other', 10), ('computer', 10), ('statistics', 10), ('public', 10), ('information', 9), ('skills', 9), ('on', 9), ('software', 9), ('evaluation', 9), ('databases', 8), ('performance', 8), ('design', 8), ('etc', 8), ('bachelor', 8), ('degree', 8), ('field', 8), ('build', 8), ('decision', 8), ('tools', 8), ('operations', 8), ('diplomacy', 8), ('statistical', 7), ('8', 7), ('processes', 7), ('projects', 7), ('related', 7), ('is', 7), ('machine', 7), ('learning', 7), ('including', 7), ('analyze', 6), ('develop', 6), ('systems', 6), ('identify', 6), ('complex', 6), ('define', 6), ('2', 6), ('programming', 6), ('requirements', 6), ('stakeholders', 6), ('recommendations', 6), ('key', 6), ('both', 6), ('communicate', 6), ('driven', 6), ('engineering', 6), ('quantitative', 6), ('leading', 6), ('research', 6), ('monitoring', 6), ('reports', 5), ('from', 5), ('3', 5), ('models', 5), ('datasets', 5), ('at', 5), ('findings', 5), ('documents', 5), ('support', 5), ('education', 5), ('financial', 5), ('initiatives', 5), ('e', 5), ('g', 5), ('making', 5), ('product', 5), ('large', 5), ('highly', 5), ('impact', 5), ('manage', 5), ('relevant', 5), ('creating', 5), ('through', 5), ('planning', 5), ('claims', 5), ('results', 4), ('that', 4), ('sets', 4), ('by', 4), ('code', 4), ('new', 4), ('process', 4), ('opportunities', 4), ('database', 4), ('analytical', 4), ('mathematics', 4), ('able', 4), ('multiple', 4), ('more', 4), ('issues', 4), ('it', 4), ('project', 4), ('demonstrated', 4), ('communication', 4), ('various', 4), ('teams', 4), ('be', 4), ('tableau', 4), ('understanding', 4), ('user', 4), ('c', 4), ('not', 4), ('applications', 4), ('high', 4), ('computing', 4), ('are', 4), ('environment', 4), ('qualifications', 4), ('relational', 4), ('partners', 4), ('programs', 4), ('strategy', 4), ('advanced', 4), ('acquisition', 4), ('assist', 4), ('responsibilities', 3), ('provide', 3), ('collection', 3), ('strategies', 3), ('quality', 3), ('sources', 3), ('trends', 3), ('problems', 3), ('production', 3), ('1', 3), ('7', 3), ('proven', 3), ('analyst', 3), ('technical', 3), ('expertise', 3), ('mining', 3), ('packages', 3), ('objects', 3), ('5', 3), ('excel', 3), ('physical', 3), ('compliance', 3), ('across', 3), ('governance', 3), ('collaborative', 3), ('products', 3), ('have', 3), ('warehousing', 3), ('concepts', 3), ('evaluate', 3), ('course', 3), ('establish', 3), ('comfortable', 3), ('written', 3), ('understand', 3), ('how', 3), ('end', 3), ('finance', 3), ('senior', 3), ('math', 3), ('one', 3), ('desirable', 3), ('java', 3), ('excellent', 3), ('effectively', 3), ('leadership', 3), ('language', 3), ('but', 3), ('developing', 3), ('individual', 3), ('they', 3), ('web', 3), ('partner', 3), ('apply', 3), ('appropriate', 3), ('create', 3), ('strategic', 3), ('optimization', 3), ('an', 3), ('when', 3), ('r', 3), ('numpy', 3), ('well', 3), ('cross', 3), ('insights', 3), ('analysts', 3), ('views', 3), ('sdlc', 3), ('activities', 3), ('designing', 3), ('supporting', 3), ('testing', 3), ('grs', 3), ('predictive', 3), ('help', 3), ('learn', 3), ('services', 3), ('use', 3), ('presentations', 3), ('evaluations', 3), ('department', 3), ('practitioners', 3), ('interpret', 2), ('ongoing', 2), ('implement', 2), ('primary', 2), ('reviewing', 2), ('locate', 2), ('prioritize', 2), ('needs', 2), ('improvement', 2), ('reporting', 2), ('javascript', 2), ('frameworks', 2), ('sas', 2), ('collect', 2), ('disseminate', 2), ('significant', 2), ('attention', 2), ('detail', 2), ('accuracy', 2), ('report', 2), ('presenting', 2), ('9', 2), ('equivalent', 2), ('needed', 2), ('reach', 2), ('classification', 2), ('units', 2), ('supports', 2), ('associated', 2), ('internal', 2), ('decisions', 2), ('insurance', 2), ('industry', 2), ('exposure', 2), ('nice', 2), ('works', 2), ('mathematical', 2), ('action', 2), ('peers', 2), ('colleagues', 2), ('approaches', 2), ('verbal', 2), ('proficiency', 2), ('office', 2), ('make', 2), ('navigate', 2), ('metrics', 2), ('dashboards', 2), ('track', 2), ('effect', 2), ('analyses', 2), ('like', 2), ('marketing', 2), ('executives', 2), ('lead', 2), ('conducting', 2), ('around', 2), ('will', 2), ('master', 2), ('following', 2), ('linux', 2), ('algorithms', 2), ('familiarity', 2), ('into', 2), ('influence', 2), ('biological', 2), ('several', 2), ('curious', 2)]\n"
     ]
    }
   ],
   "source": [
    "import collections\n",
    "import re\n",
    "\n",
    "words = re.findall(r'\\w+', open ('Indeed Machine Learning Job Description.txt', encoding='utf-8').read().lower()) \n",
    "\n",
    "most_common = collections.Counter(words).most_common(300)\n",
    "print(most_common)"
   ]
  },
  {
   "cell_type": "code",
   "execution_count": null,
   "metadata": {},
   "outputs": [],
   "source": []
  }
 ],
 "metadata": {
  "kernelspec": {
   "display_name": "Python 3",
   "language": "python",
   "name": "python3"
  },
  "language_info": {
   "codemirror_mode": {
    "name": "ipython",
    "version": 3
   },
   "file_extension": ".py",
   "mimetype": "text/x-python",
   "name": "python",
   "nbconvert_exporter": "python",
   "pygments_lexer": "ipython3",
   "version": "3.8.2"
  }
 },
 "nbformat": 4,
 "nbformat_minor": 4
}
